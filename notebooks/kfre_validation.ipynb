{
 "cells": [
  {
   "cell_type": "markdown",
   "metadata": {},
   "source": [
    "# KFRE Validation"
   ]
  },
  {
   "cell_type": "markdown",
   "metadata": {},
   "source": [
    "## Background"
   ]
  },
  {
   "cell_type": "markdown",
   "metadata": {},
   "source": [
    "The Kidney Failure Risk Equation (KFRE) by Tangri et al.\n",
    "Tangri et al. developed the Kidney Failure Risk Equation (KFRE) to predict the risk of progression to kidney failure in patients with chronic kidney disease (CKD). They utilized data from multiple cohort studies involving patients with CKD stages 3 to 5. The researchers identified key predictors of kidney failure, including age, sex, estimated glomerular filtration rate (eGFR), and urine albumin-to-creatinine ratio (ACR). They then used statistical modeling to create equations that estimate the risk of kidney failure at 2 and 5 years. The KFRE has been validated in various populations and is used to guide clinical decision-making and patient counseling.  \n",
    "\n",
    "To reproduce the work of Tangri et al., I created a Python library called `kfre`. This library implements the original KFRE equations, allowing users to easily calculate the `2-year` and `5-year` risk of kidney failure. The calculations are based on input parameters such as `age`, `sex`, `eGFR`, and `uACR` for the `4-variable equation`, and adding diabetes mellitus and hypertension for the `6-variable equation`. The `8-variable equation` includes all the variables from the 4-variable model and additionally introduces `serum albumin`, `serum phosphorous`, `serum bicarbonate`, and `calcium`. By translating these equations into Python code, I made it straightforward for healthcare professionals and researchers to utilize the KFRE in their own analyses and decision-making processes.\n",
    "\n",
    "For an in-depth, supplementary usage guide, visit the link to the official documentation below:\n",
    "https://lshpaner.github.io/kfre/"
   ]
  },
  {
   "cell_type": "markdown",
   "metadata": {},
   "source": [
    "## Import Requisite Libraries"
   ]
  },
  {
   "cell_type": "code",
   "execution_count": 1,
   "metadata": {},
   "outputs": [
    {
     "name": "stdout",
     "output_type": "stream",
     "text": [
      "Python version:\n",
      "3.7.4 (default, Aug  9 2019, 18:34:13) [MSC v.1915 64 bit (AMD64)]\n",
      "\n",
      "Pandas Version = 1.3.5\n",
      "Seaborn Version = 0.12.2\n",
      "Numpy Version = 1.21.6\n",
      "Scikit-Learn Version = 1.0.2\n",
      "KFRE Version = 0.1.8\n",
      "Jinja2 Version = 3.1.4\n",
      "xlsxwriter Version = 3.2.0\n",
      "matplotlib Version = 3.5.3\n",
      "tqdm Version = 4.48.0\n"
     ]
    }
   ],
   "source": [
    "########################### Import Requisite Libraries #########################\n",
    "import pandas as pd\n",
    "import numpy as np\n",
    "import matplotlib.pyplot as plt\n",
    "import seaborn as sns\n",
    "from sklearn.metrics import (\n",
    "    auc,\n",
    "    roc_curve,\n",
    "    precision_score,\n",
    "    average_precision_score,\n",
    "    recall_score,\n",
    "    roc_auc_score,\n",
    "    brier_score_loss,\n",
    "    precision_recall_curve,\n",
    "    precision_score,\n",
    ")\n",
    "import os\n",
    "import sys\n",
    "import pprint\n",
    "import warnings\n",
    "import textwrap\n",
    "import kfre\n",
    "import sklearn\n",
    "import kfre\n",
    "from kfre import *\n",
    "\n",
    "################################################################################\n",
    "# Add the parent directory to sys.path to access 'functions.py'\n",
    "sys.path.append(os.path.join(os.pardir))\n",
    "from py_scripts.functions import *\n",
    "\n",
    "# from py_scripts.esrd_functions import *\n",
    "\n",
    "import jinja2\n",
    "import xlsxwriter\n",
    "\n",
    "################################################################################\n",
    "\n",
    "import itertools\n",
    "import matplotlib\n",
    "import textwrap\n",
    "import warnings\n",
    "\n",
    "print(\"Python version:\")\n",
    "print(sys.version)\n",
    "print()\n",
    "print(f\"Pandas Version = {pd.__version__}\")\n",
    "print(f\"Seaborn Version = {sns.__version__}\")\n",
    "print(f\"Numpy Version = {np.__version__}\")\n",
    "print(f\"Scikit-Learn Version = {sklearn.__version__}\")\n",
    "print(f\"KFRE Version = {kfre.__version__}\")\n",
    "print(f\"Jinja2 Version = {jinja2.__version__}\")\n",
    "print(f\"xlsxwriter Version = {xlsxwriter.__version__}\")\n",
    "# print(f\"itertools Version = {itertools.__version__}\")\n",
    "\n",
    "import tqdm\n",
    "\n",
    "print(f\"matplotlib Version = {matplotlib.__version__}\")\n",
    "print(f\"tqdm Version = {tqdm.__version__}\")"
   ]
  },
  {
   "cell_type": "markdown",
   "metadata": {},
   "source": [
    "## Set Paths"
   ]
  },
  {
   "cell_type": "code",
   "execution_count": null,
   "metadata": {},
   "outputs": [],
   "source": [
    "base_path = os.path.join(os.pardir)\n",
    "\n",
    "# Go up one level from 'notebooks' to the parent directory, then into the 'data' folder\n",
    "data_path = os.path.join(os.pardir, \"data\")\n",
    "data_output = os.path.join(os.pardir, \"data_output\")\n",
    "\n",
    "image_path_png = os.path.join(\n",
    "    base_path,\n",
    "    \"images\",\n",
    "    \"png_images/performance_assessment\",\n",
    ")\n",
    "image_path_svg = os.path.join(\n",
    "    base_path,\n",
    "    \"images\",\n",
    "    \"svg_images/performance_assessment\",\n",
    ")\n",
    "\n",
    "# Use the function to ensure the 'data' directory exists\n",
    "ensure_directory(data_path)\n",
    "ensure_directory(data_output)\n",
    "ensure_directory(image_path_png)\n",
    "ensure_directory(image_path_svg)\n",
    "\n",
    "# Read the file into a DataFrame\n",
    "df = pd.read_excel(os.path.join(data_path, \"KFRE_prepped.xlsx\")).set_index(\"Patient_ID\")"
   ]
  },
  {
   "cell_type": "code",
   "execution_count": null,
   "metadata": {},
   "outputs": [],
   "source": [
    "df.head()  # inspect first 5 rows of data"
   ]
  },
  {
   "cell_type": "code",
   "execution_count": null,
   "metadata": {},
   "outputs": [],
   "source": [
    "data_types(df)"
   ]
  },
  {
   "cell_type": "code",
   "execution_count": null,
   "metadata": {},
   "outputs": [],
   "source": [
    "df = add_kfre_risk_col(\n",
    "    df=df,\n",
    "    age_col=\"Age\",\n",
    "    sex_col=\"sex_cat\",\n",
    "    eGFR_col=\"GFR\",\n",
    "    uACR_col=\"ACR\",\n",
    "    dm_col=\"DM\",\n",
    "    htn_col=\"HTN\",\n",
    "    albumin_col=\"Alb\",\n",
    "    phosphorous_col=\"P\",\n",
    "    bicarbonate_col=\"TCO2\",\n",
    "    calcium_col=\"Ca\",\n",
    "    num_vars=[4, 6, 8],\n",
    "    years=(2, 5),\n",
    "    is_north_american=False,\n",
    "    copy=True,  # Modify the original DataFrame directly\n",
    ")\n",
    "# The resulting DataFrame 'df' now includes new columns with risk\n",
    "# predictions for each model and time frame\n",
    "kfre_cols = [col for col in df.columns if \"kfre\" in col]\n",
    "df[kfre_cols] = (\n",
    "    df[kfre_cols]\n",
    "    .applymap(lambda x: f\"{x:.6f}\" if isinstance(x, float) else x)\n",
    "    .astype(float)\n",
    ")  # rem. sci not and ensure cols are floats"
   ]
  },
  {
   "cell_type": "code",
   "execution_count": null,
   "metadata": {},
   "outputs": [],
   "source": [
    "# Call the function with desired parameters\n",
    "columns_to_highlight = df[[col for col in df.columns if \"kfre\" in col]]\n",
    "df_styled = highlight_columns(\n",
    "    df.head(),\n",
    "    columns=columns_to_highlight,\n",
    "    color=\"#B85C00\",\n",
    ")\n",
    "\n",
    "# Display the styled DataFrame\n",
    "df_styled"
   ]
  },
  {
   "cell_type": "markdown",
   "metadata": {},
   "source": [
    "For the 4 variable KFRE, feel free to match these calculations with the following online calculator:\n",
    "\n",
    "https://qxmd.com/calculate/calculator_308/kidney-failure-risk-equation-4-variable\n",
    "\n",
    "\n",
    "For the 8 variable KFRE, feel free to match these calculations with the following online calculator:\n",
    "\n",
    "https://kidneyfailurerisk.com/"
   ]
  },
  {
   "cell_type": "markdown",
   "metadata": {},
   "source": [
    "## Subset The Data For Only Stages 3-4"
   ]
  },
  {
   "cell_type": "code",
   "execution_count": null,
   "metadata": {},
   "outputs": [],
   "source": [
    "# Filter for CKD Stages 3 through 5\n",
    "df_ckd_3_to_5 = df[df[\"GFR\"] < 60]"
   ]
  },
  {
   "cell_type": "code",
   "execution_count": null,
   "metadata": {},
   "outputs": [],
   "source": [
    "df_3_5 = df[df[\"CKD Stage 3 - 5\"] != \"Not classified\"]"
   ]
  },
  {
   "cell_type": "code",
   "execution_count": null,
   "metadata": {},
   "outputs": [],
   "source": [
    "print(\n",
    "    f\"There are {df_ckd_3_to_5.shape[0]} patients in stages 3-5 when the \"\n",
    "    \"dataframe is filtered by `df_ckd_3_to_5`.\"\n",
    ")\n",
    "print(\n",
    "    f\"There are {df_3_5.shape[0]} patients in stages 3-5 when the dataframe \"\n",
    "    \"is filtered by `df_3_5`.\"\n",
    ")"
   ]
  },
  {
   "cell_type": "markdown",
   "metadata": {},
   "source": [
    "## Save Out The Results"
   ]
  },
  {
   "cell_type": "code",
   "execution_count": null,
   "metadata": {},
   "outputs": [],
   "source": [
    "file_name = \"kfre_3_5_preds.xlsx\"  # Name of the output Excel file\n",
    "file_path = os.path.join(data_path, file_name)\n",
    "\n",
    "\n",
    "df_dict = {\"KFRE_Stages_3_4\": df_ckd_3_to_5}\n",
    "\n",
    "save_dataframes_to_excel(file_path, df_dict, decimal_places=6)"
   ]
  },
  {
   "cell_type": "markdown",
   "metadata": {},
   "source": [
    "## Challenges in Predicting KFRE with GFR Less Than 10"
   ]
  },
  {
   "cell_type": "markdown",
   "metadata": {},
   "source": [
    "Predicting the Kidney Failure Risk Equation (KFRE) for patients with an estimated glomerular filtration rate (eGFR) less than 10 ml/min/1.73 m² can be challenging due to several factors:\n",
    "\n",
    "1. **Data Sparsity**: Patients with eGFR less than 10 ml/min/1.73 m² are relatively rare in the general population compared to those with higher eGFR values. This means there is less data available to develop and validate predictive models for this group.\n",
    "\n",
    "2. **Rapid Disease Progression**: At such low eGFR levels, patients are typically very close to requiring dialysis or a kidney transplant. The disease progression in these patients can be more rapid and variable, making it harder to predict outcomes accurately.\n",
    "\n",
    "3. **Clinical Interventions**: Patients with eGFR less than 10 ml/min/1.73 m² are often under close medical supervision and may receive interventions that can alter the natural course of the disease, such as the initiation of dialysis or changes in medication. These interventions can add variability to the outcomes, complicating predictions.\n",
    "\n",
    "4. **Physiological Changes**: At very low eGFR levels, the body's physiology can undergo significant changes, which may not be fully captured by the variables included in the KFRE. This can reduce the model's predictive accuracy.\n",
    "\n",
    "Despite these challenges, the KFRE can still provide valuable information for patients with very low eGFR, but it is important to interpret the results with caution and in the context of other clinical information. It is always recommended to consult with healthcare professionals for personalized medical advice and decision-making.\n"
   ]
  },
  {
   "cell_type": "markdown",
   "metadata": {},
   "source": [
    "## Performance Assessment"
   ]
  },
  {
   "cell_type": "markdown",
   "metadata": {},
   "source": [
    "1. We define Truth for `2-Year` and `5-Year` Outcomes    \n",
    "2. Extract the true labels for the `2-year` and `5-year` outcomes from the DataFrame `df`.\n",
    "\n",
    "3. Assign the true labels for the `2-year` outcome to y_true_2_yr and for the `5-year` outcome to `y_true_5_yr`.\n",
    "4. Combine these true labels into a list `y_true`."
   ]
  },
  {
   "cell_type": "markdown",
   "metadata": {},
   "source": [
    "## Define Predictions for 4-Variable and 6-Variable KFREs for 2-Years and 5-Years"
   ]
  },
  {
   "cell_type": "markdown",
   "metadata": {},
   "source": [
    "* Extract the predicted probabilities for the `4-variable` KFRE model for both the `2-year` and `5-year` outcomes.\n",
    "* Assign these predictions to `y_pred_4var_2_yr` and `y_pred_4var_5_yr`, respectively.\n",
    "* Similarly, extract and assign the predicted probabilities for the 6-variable KFRE model for both the `2-year` and `5-year` outcomes to `y_pred_6var_2_yr` and `y_pred_6var_5_yr`.\n",
    "* Combine the 4-variable model predictions into a list preds_4var.\n",
    "\n",
    "These steps set up the necessary true labels and predictions for subsequent performance evaluation and analysis of the `4-variable` and `6-variable` KFRE models for both `2-year` and `5-year` outcomes."
   ]
  },
  {
   "cell_type": "code",
   "execution_count": null,
   "metadata": {},
   "outputs": [],
   "source": [
    "results = plot_kfre_metrics(\n",
    "    df=df_ckd_3_to_5,\n",
    "    num_vars=[4, 6, 8],\n",
    "    fig_size=[6, 6],\n",
    "    mode=\"both\",  # Can be 'prep', 'plot', or 'both'\n",
    "    image_path_png=image_path_png,\n",
    "    image_path_svg=image_path_svg,\n",
    "    image_prefix=\"performance\",  # Optional prefix for saved images\n",
    "    bbox_inches=\"tight\",  # Bounding box in inches for the saved images\n",
    "    plot_type=\"both\",  # Can be 'roc', 'pr', or 'both'\n",
    "    save_plots=True,  # Whether to save plots\n",
    "    show_years=[2, 5],  # Year outcomes to show in the plots\n",
    "    plot_combinations=False,\n",
    "    show_grids=True,\n",
    ")"
   ]
  },
  {
   "cell_type": "code",
   "execution_count": null,
   "metadata": {},
   "outputs": [],
   "source": [
    "df.describe().T"
   ]
  },
  {
   "cell_type": "code",
   "execution_count": null,
   "metadata": {},
   "outputs": [],
   "source": [
    "df[\"P\"].max()"
   ]
  },
  {
   "cell_type": "code",
   "execution_count": null,
   "metadata": {},
   "outputs": [],
   "source": [
    "results = plot_kfre_metrics(\n",
    "    df=df_ckd_3_to_5,\n",
    "    num_vars=[4, 6, 8],\n",
    "    fig_size=[10, 8],\n",
    "    mode=\"both\",  # Can be 'prep', 'plot', or 'both'\n",
    "    image_path_png=image_path_png,\n",
    "    image_path_svg=image_path_svg,\n",
    "    image_prefix=\"performance\",  # Optional prefix for saved images\n",
    "    bbox_inches=\"tight\",  # Bounding box in inches for the saved images\n",
    "    plot_type=\"both\",  # Can be 'roc', 'pr', or 'both'\n",
    "    save_plots=True,  # Whether to save plots\n",
    "    show_years=[2, 5],  # Year outcomes to show in the plots\n",
    "    plot_combinations=False,\n",
    "    show_grids=False,\n",
    ")"
   ]
  },
  {
   "cell_type": "code",
   "execution_count": null,
   "metadata": {},
   "outputs": [],
   "source": [
    "results = plot_kfre_metrics(\n",
    "    df=df_ckd_3_to_5,\n",
    "    num_vars=[4, 6, 8],\n",
    "    fig_size=[10, 8],\n",
    "    mode=\"both\",  # Can be 'prep', 'plot', or 'both'\n",
    "    image_path_png=image_path_png,\n",
    "    image_path_svg=image_path_svg,\n",
    "    image_prefix=\"performance\",  # Optional prefix for saved images\n",
    "    bbox_inches=\"tight\",  # Bounding box in inches for the saved images\n",
    "    plot_type=\"both\",  # Can be 'roc', 'pr', or 'both'\n",
    "    save_plots=True,  # Whether to save plots\n",
    "    show_years=[2, 5],  # Year outcomes to show in the plots\n",
    "    plot_combinations=True,\n",
    "    show_grids=False,\n",
    ")"
   ]
  },
  {
   "cell_type": "code",
   "execution_count": null,
   "metadata": {},
   "outputs": [],
   "source": [
    "results = plot_kfre_metrics(\n",
    "    df=df_ckd_3_to_5,\n",
    "    num_vars=[4, 6, 8],\n",
    "    fig_size=[10, 8],\n",
    "    mode=\"prep\",  # Can be 'prep', 'plot', or 'both'\n",
    "    image_path_png=image_path_png,\n",
    "    image_path_svg=image_path_svg,\n",
    "    image_prefix=\"performance\",  # Optional prefix for saved images\n",
    "    bbox_inches=\"tight\",  # Bounding box in inches for the saved images\n",
    "    plot_type=\"both\",  # Can be 'roc', 'pr', or 'both'\n",
    "    save_plots=True,  # Whether to save plots\n",
    "    show_years=[2, 5],  # Year outcomes to show in the plots\n",
    "    plot_combinations=True,\n",
    "    show_grids=False,\n",
    ")"
   ]
  },
  {
   "cell_type": "markdown",
   "metadata": {},
   "source": [
    "## Calculate Performance Metrics"
   ]
  },
  {
   "cell_type": "markdown",
   "metadata": {},
   "source": [
    "Metrics Calculated"
   ]
  },
  {
   "cell_type": "markdown",
   "metadata": {},
   "source": [
    "- Precision/PPV: Precision score  \n",
    "- PR AUC: Area under the precision-recall curve\n",
    "- Average Precision: Average precision score\n",
    "- Sensitivity: Recall score\n",
    "- Specificity: Recall score with positive label set to 0\n",
    "- AUC ROC: Area under the ROC curve\n",
    "- Brier Score: Brier score loss"
   ]
  },
  {
   "cell_type": "code",
   "execution_count": null,
   "metadata": {},
   "outputs": [],
   "source": [
    "n_var_list = [4, 6, 8]  # List of variable numbers to consider\n",
    "metrics_df_n_var = eval_kfre_metrics(df_ckd_3_to_5, n_var_list)\n",
    "metrics_df_n_var"
   ]
  },
  {
   "cell_type": "markdown",
   "metadata": {},
   "source": [
    "# References\n",
    "\n",
    "1. Tangri N, Grams ME, Levey AS, Coresh J, Appel LJ, Astor BC, Chodick G, Collins AJ, Djurdjev O, Elley CR, Evans M, Garg AX, Hallan SI, Inker LA, Ito S, Jee SH, Kovesdy CP, Kronenberg F, Heerspink HJL, Marks A, Nadkarni GN, Navaneethan SD, Nelson RG, Titze S, Sarnak MJ, Stengel B, Woodward M, Iseki K, for the CKD Prognosis Consortium. (2016). *Multinational assessment of accuracy of equations for predicting risk of kidney failure: A meta-analysis. JAMA,* **315**(2), 164–174. doi: 10.1001/jama.2015.18202.\n",
    "\n",
    "2. Tangri, N., Stevens, L. A., Griffith, J., Tighiouart, H., Djurdjev, O., Naimark, D., Levin, A., & Levey, A. S. (2011). *A predictive model for progression of chronic kidney disease to kidney failure. JAMA,* **305**(15), 1553-1559. doi: 10.1001/jama.2011.451.  \n",
    "\n",
    "3. Shpaner, L. (2024). *kfre: A Python library for reproducing Kidney Failure Risk Equations (KFRE)* (Version 0.1.8) [Computer software]. Zenodo. https://doi.org/10.5281/zenodo.11100222\n",
    "\n",
    "4. Kang MW, Tangri N, Kim YC, An JN, Lee J, Li L, Oh YK, Kim DK, Joo KW, Kim YS, Lim CS, Lee JP. (2020). *An independent validation of the kidney failure risk equation in an Asian population. Scientific Reports,* **10**(1), 12920. doi: 10.1038/s41598-020-69715-3."
   ]
  }
 ],
 "metadata": {
  "kernelspec": {
   "display_name": "custom_conda",
   "language": "python",
   "name": "python3"
  },
  "language_info": {
   "codemirror_mode": {
    "name": "ipython",
    "version": 3
   },
   "file_extension": ".py",
   "mimetype": "text/x-python",
   "name": "python",
   "nbconvert_exporter": "python",
   "pygments_lexer": "ipython3",
   "version": "3.7.4"
  }
 },
 "nbformat": 4,
 "nbformat_minor": 2
}
